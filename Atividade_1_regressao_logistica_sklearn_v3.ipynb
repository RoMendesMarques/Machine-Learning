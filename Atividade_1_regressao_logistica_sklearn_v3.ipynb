{
 "cells": [
  {
   "cell_type": "code",
   "execution_count": 1,
   "metadata": {},
   "outputs": [],
   "source": [
    "# Componentes: Carlos, Elizângela,  Fábio, Rosana\n",
    "\n",
    "#leitura do arquivo csv\n",
    "import pandas as pd\n",
    "#arquivo = pd.read_csv('fertility_Diagnosis.csv')\n",
    "arquivo=pd.read_csv(\"fertility_Diagnosis.txt\",header=None)"
   ]
  },
  {
   "cell_type": "code",
   "execution_count": 2,
   "metadata": {},
   "outputs": [],
   "source": [
    "#mostrar as primeiras linhas\n",
    "#arquivo.head()"
   ]
  },
  {
   "cell_type": "code",
   "execution_count": 3,
   "metadata": {},
   "outputs": [
    {
     "data": {
      "text/plain": [
       "0    0\n",
       "1    0\n",
       "2    0\n",
       "3    0\n",
       "4    0\n",
       "5    0\n",
       "6    0\n",
       "7    0\n",
       "8    0\n",
       "9    0\n",
       "dtype: int64"
      ]
     },
     "execution_count": 3,
     "metadata": {},
     "output_type": "execute_result"
    }
   ],
   "source": [
    "#verifica se há algum regitro nulo\n",
    "arquivo.isnull().sum()"
   ]
  },
  {
   "cell_type": "code",
   "execution_count": 4,
   "metadata": {},
   "outputs": [
    {
     "data": {
      "text/plain": [
       "1000"
      ]
     },
     "execution_count": 4,
     "metadata": {},
     "output_type": "execute_result"
    }
   ],
   "source": [
    "#tamanho do dataset, multiplicada da quantidade de linhas pela quantidade colunas\n",
    "tamanho=arquivo.size\n",
    "tamanho"
   ]
  },
  {
   "cell_type": "code",
   "execution_count": 5,
   "metadata": {},
   "outputs": [
    {
     "data": {
      "text/html": [
       "<div>\n",
       "<style scoped>\n",
       "    .dataframe tbody tr th:only-of-type {\n",
       "        vertical-align: middle;\n",
       "    }\n",
       "\n",
       "    .dataframe tbody tr th {\n",
       "        vertical-align: top;\n",
       "    }\n",
       "\n",
       "    .dataframe thead th {\n",
       "        text-align: right;\n",
       "    }\n",
       "</style>\n",
       "<table border=\"1\" class=\"dataframe\">\n",
       "  <thead>\n",
       "    <tr style=\"text-align: right;\">\n",
       "      <th></th>\n",
       "      <th>0</th>\n",
       "      <th>1</th>\n",
       "      <th>2</th>\n",
       "      <th>3</th>\n",
       "      <th>4</th>\n",
       "      <th>5</th>\n",
       "      <th>6</th>\n",
       "      <th>7</th>\n",
       "      <th>8</th>\n",
       "    </tr>\n",
       "  </thead>\n",
       "  <tbody>\n",
       "    <tr>\n",
       "      <th>count</th>\n",
       "      <td>100.000000</td>\n",
       "      <td>100.000000</td>\n",
       "      <td>100.000000</td>\n",
       "      <td>100.000000</td>\n",
       "      <td>100.000000</td>\n",
       "      <td>100.000000</td>\n",
       "      <td>100.000000</td>\n",
       "      <td>100.000000</td>\n",
       "      <td>100.000000</td>\n",
       "    </tr>\n",
       "    <tr>\n",
       "      <th>mean</th>\n",
       "      <td>-0.078900</td>\n",
       "      <td>0.669000</td>\n",
       "      <td>0.870000</td>\n",
       "      <td>0.440000</td>\n",
       "      <td>0.510000</td>\n",
       "      <td>0.190000</td>\n",
       "      <td>0.832000</td>\n",
       "      <td>-0.350000</td>\n",
       "      <td>0.406800</td>\n",
       "    </tr>\n",
       "    <tr>\n",
       "      <th>std</th>\n",
       "      <td>0.796725</td>\n",
       "      <td>0.121319</td>\n",
       "      <td>0.337998</td>\n",
       "      <td>0.498888</td>\n",
       "      <td>0.502418</td>\n",
       "      <td>0.580752</td>\n",
       "      <td>0.167501</td>\n",
       "      <td>0.808728</td>\n",
       "      <td>0.186395</td>\n",
       "    </tr>\n",
       "    <tr>\n",
       "      <th>min</th>\n",
       "      <td>-1.000000</td>\n",
       "      <td>0.500000</td>\n",
       "      <td>0.000000</td>\n",
       "      <td>0.000000</td>\n",
       "      <td>0.000000</td>\n",
       "      <td>-1.000000</td>\n",
       "      <td>0.200000</td>\n",
       "      <td>-1.000000</td>\n",
       "      <td>0.060000</td>\n",
       "    </tr>\n",
       "    <tr>\n",
       "      <th>25%</th>\n",
       "      <td>-1.000000</td>\n",
       "      <td>0.560000</td>\n",
       "      <td>1.000000</td>\n",
       "      <td>0.000000</td>\n",
       "      <td>0.000000</td>\n",
       "      <td>0.000000</td>\n",
       "      <td>0.800000</td>\n",
       "      <td>-1.000000</td>\n",
       "      <td>0.250000</td>\n",
       "    </tr>\n",
       "    <tr>\n",
       "      <th>50%</th>\n",
       "      <td>-0.330000</td>\n",
       "      <td>0.670000</td>\n",
       "      <td>1.000000</td>\n",
       "      <td>0.000000</td>\n",
       "      <td>1.000000</td>\n",
       "      <td>0.000000</td>\n",
       "      <td>0.800000</td>\n",
       "      <td>-1.000000</td>\n",
       "      <td>0.380000</td>\n",
       "    </tr>\n",
       "    <tr>\n",
       "      <th>75%</th>\n",
       "      <td>1.000000</td>\n",
       "      <td>0.750000</td>\n",
       "      <td>1.000000</td>\n",
       "      <td>1.000000</td>\n",
       "      <td>1.000000</td>\n",
       "      <td>1.000000</td>\n",
       "      <td>1.000000</td>\n",
       "      <td>0.000000</td>\n",
       "      <td>0.500000</td>\n",
       "    </tr>\n",
       "    <tr>\n",
       "      <th>max</th>\n",
       "      <td>1.000000</td>\n",
       "      <td>1.000000</td>\n",
       "      <td>1.000000</td>\n",
       "      <td>1.000000</td>\n",
       "      <td>1.000000</td>\n",
       "      <td>1.000000</td>\n",
       "      <td>1.000000</td>\n",
       "      <td>1.000000</td>\n",
       "      <td>1.000000</td>\n",
       "    </tr>\n",
       "  </tbody>\n",
       "</table>\n",
       "</div>"
      ],
      "text/plain": [
       "                0           1           2           3           4           5  \\\n",
       "count  100.000000  100.000000  100.000000  100.000000  100.000000  100.000000   \n",
       "mean    -0.078900    0.669000    0.870000    0.440000    0.510000    0.190000   \n",
       "std      0.796725    0.121319    0.337998    0.498888    0.502418    0.580752   \n",
       "min     -1.000000    0.500000    0.000000    0.000000    0.000000   -1.000000   \n",
       "25%     -1.000000    0.560000    1.000000    0.000000    0.000000    0.000000   \n",
       "50%     -0.330000    0.670000    1.000000    0.000000    1.000000    0.000000   \n",
       "75%      1.000000    0.750000    1.000000    1.000000    1.000000    1.000000   \n",
       "max      1.000000    1.000000    1.000000    1.000000    1.000000    1.000000   \n",
       "\n",
       "                6           7           8  \n",
       "count  100.000000  100.000000  100.000000  \n",
       "mean     0.832000   -0.350000    0.406800  \n",
       "std      0.167501    0.808728    0.186395  \n",
       "min      0.200000   -1.000000    0.060000  \n",
       "25%      0.800000   -1.000000    0.250000  \n",
       "50%      0.800000   -1.000000    0.380000  \n",
       "75%      1.000000    0.000000    0.500000  \n",
       "max      1.000000    1.000000    1.000000  "
      ]
     },
     "execution_count": 5,
     "metadata": {},
     "output_type": "execute_result"
    }
   ],
   "source": [
    "#fazer summary semelhante o R\n",
    "arquivo.describe()"
   ]
  },
  {
   "cell_type": "code",
   "execution_count": 6,
   "metadata": {},
   "outputs": [
    {
     "data": {
      "text/plain": [
       "<matplotlib.axes._subplots.AxesSubplot at 0x7fa9d10e6c50>"
      ]
     },
     "execution_count": 6,
     "metadata": {},
     "output_type": "execute_result"
    },
    {
     "data": {
      "image/png": "[encoded data removed]",
      "text/plain": [
       "<Figure size 432x288 with 1 Axes>"
      ]
     },
     "metadata": {
      "needs_background": "light"
     },
     "output_type": "display_data"
    }
   ],
   "source": [
    "#Histograma da variável N\n",
    "%matplotlib inline\n",
    "arquivo[9].hist()\n",
    "\n",
    "#arquivo[0].hist()\n",
    "#arquivo[1].hist()\n",
    "#arquivo[2].hist()\n",
    "#arquivo[3].hist()\n",
    "#arquivo[4].hist()\n",
    "#arquivo[5].hist()\n",
    "#arquivo[6].hist()\n",
    "#arquivo[7].hist()\n",
    "#arquivo[8].hist()\n"
   ]
  },
  {
   "cell_type": "code",
   "execution_count": 7,
   "metadata": {
    "scrolled": true
   },
   "outputs": [
    {
     "data": {
      "text/plain": [
       "array(['N', 'O'], dtype=object)"
      ]
     },
     "execution_count": 7,
     "metadata": {},
     "output_type": "execute_result"
    }
   ],
   "source": [
    "#mostra os valores que a coluna 9 possui\n",
    "#arquivo[9].unique()\n",
    "\n",
    "#arquivo[0].unique() --array([-0.33,  1.  , -1.  ,  0.33])\n",
    "#arquivo[1].unique() --array([0.94, 0.5 , 0.75, 0.67, 1.  , 0.64, 0.61, 0.78, 0.81, 0.69, 0.56,0.58, 0.53, 0.72, 0.92, 0.86, 0.89, 0.83])\n",
    "#arquivo[2].unique() --array([1, 0])\n",
    "#arquivo[3].unique() -- array([0, 1])\n",
    "#arquivo[4].unique() -- array([1, 0])\n",
    "#arquivo[5].unique() --array([ 0, -1,  1])\n",
    "#arquivo[6].unique() --array([0.8, 1. , 0.6, 0.2, 0.4])\n",
    "#arquivo[7].unique() --array([ 1, -1,  0])\n",
    "#arquivo[8].unique() -array([0.31, 0.5 , 0.38, 0.44, 0.25, 0.13, 0.63, 0.19, 0.75, 1. , 0.56,0.88, 0.47, 0.06])\n",
    "arquivo[9].unique()\n",
    "\n"
   ]
  },
  {
   "cell_type": "code",
   "execution_count": 8,
   "metadata": {},
   "outputs": [],
   "source": [
    "#função de conversão da variável alvo\n",
    "def converte_rotulo(rotulo):\n",
    "    if rotulo == 'N':\n",
    "        return 1\n",
    "    else:\n",
    "        return 0"
   ]
  },
  {
   "cell_type": "code",
   "execution_count": 9,
   "metadata": {},
   "outputs": [],
   "source": [
    "#aplicação da função de conversão da variável alvo\n",
    "arquivo[9] = arquivo[9].apply(converte_rotulo)"
   ]
  },
  {
   "cell_type": "code",
   "execution_count": 10,
   "metadata": {},
   "outputs": [
    {
     "data": {
      "text/plain": [
       "array([1, 0])"
      ]
     },
     "execution_count": 10,
     "metadata": {},
     "output_type": "execute_result"
    }
   ],
   "source": [
    "arquivo[9].unique()"
   ]
  },
  {
   "cell_type": "code",
   "execution_count": 11,
   "metadata": {
    "scrolled": true
   },
   "outputs": [
    {
     "data": {
      "text/plain": [
       "array([1, 0])"
      ]
     },
     "execution_count": 11,
     "metadata": {},
     "output_type": "execute_result"
    }
   ],
   "source": [
    "#mostra as dimensões do dataset (quantidades de linhas e colunas)\n",
    "arquivo[9].unique()"
   ]
  },
  {
   "cell_type": "code",
   "execution_count": 12,
   "metadata": {},
   "outputs": [
    {
     "data": {
      "text/html": [
       "<div>\n",
       "<style scoped>\n",
       "    .dataframe tbody tr th:only-of-type {\n",
       "        vertical-align: middle;\n",
       "    }\n",
       "\n",
       "    .dataframe tbody tr th {\n",
       "        vertical-align: top;\n",
       "    }\n",
       "\n",
       "    .dataframe thead th {\n",
       "        text-align: right;\n",
       "    }\n",
       "</style>\n",
       "<table border=\"1\" class=\"dataframe\">\n",
       "  <thead>\n",
       "    <tr style=\"text-align: right;\">\n",
       "      <th></th>\n",
       "      <th>0</th>\n",
       "      <th>1</th>\n",
       "      <th>2</th>\n",
       "      <th>3</th>\n",
       "      <th>4</th>\n",
       "      <th>5</th>\n",
       "      <th>6</th>\n",
       "      <th>7</th>\n",
       "      <th>8</th>\n",
       "      <th>9</th>\n",
       "    </tr>\n",
       "  </thead>\n",
       "  <tbody>\n",
       "    <tr>\n",
       "      <th>0</th>\n",
       "      <td>-0.33</td>\n",
       "      <td>0.69</td>\n",
       "      <td>0</td>\n",
       "      <td>1</td>\n",
       "      <td>1</td>\n",
       "      <td>0</td>\n",
       "      <td>0.8</td>\n",
       "      <td>0</td>\n",
       "      <td>0.88</td>\n",
       "      <td>1</td>\n",
       "    </tr>\n",
       "    <tr>\n",
       "      <th>1</th>\n",
       "      <td>-0.33</td>\n",
       "      <td>0.94</td>\n",
       "      <td>1</td>\n",
       "      <td>0</td>\n",
       "      <td>1</td>\n",
       "      <td>0</td>\n",
       "      <td>0.8</td>\n",
       "      <td>1</td>\n",
       "      <td>0.31</td>\n",
       "      <td>0</td>\n",
       "    </tr>\n",
       "    <tr>\n",
       "      <th>2</th>\n",
       "      <td>-0.33</td>\n",
       "      <td>0.50</td>\n",
       "      <td>1</td>\n",
       "      <td>0</td>\n",
       "      <td>0</td>\n",
       "      <td>0</td>\n",
       "      <td>1.0</td>\n",
       "      <td>-1</td>\n",
       "      <td>0.50</td>\n",
       "      <td>1</td>\n",
       "    </tr>\n",
       "    <tr>\n",
       "      <th>3</th>\n",
       "      <td>-0.33</td>\n",
       "      <td>0.75</td>\n",
       "      <td>0</td>\n",
       "      <td>1</td>\n",
       "      <td>1</td>\n",
       "      <td>0</td>\n",
       "      <td>1.0</td>\n",
       "      <td>-1</td>\n",
       "      <td>0.38</td>\n",
       "      <td>1</td>\n",
       "    </tr>\n",
       "    <tr>\n",
       "      <th>4</th>\n",
       "      <td>-0.33</td>\n",
       "      <td>0.67</td>\n",
       "      <td>1</td>\n",
       "      <td>1</td>\n",
       "      <td>0</td>\n",
       "      <td>0</td>\n",
       "      <td>0.8</td>\n",
       "      <td>-1</td>\n",
       "      <td>0.50</td>\n",
       "      <td>0</td>\n",
       "    </tr>\n",
       "  </tbody>\n",
       "</table>\n",
       "</div>"
      ],
      "text/plain": [
       "      0     1  2  3  4  5    6  7     8  9\n",
       "0 -0.33  0.69  0  1  1  0  0.8  0  0.88  1\n",
       "1 -0.33  0.94  1  0  1  0  0.8  1  0.31  0\n",
       "2 -0.33  0.50  1  0  0  0  1.0 -1  0.50  1\n",
       "3 -0.33  0.75  0  1  1  0  1.0 -1  0.38  1\n",
       "4 -0.33  0.67  1  1  0  0  0.8 -1  0.50  0"
      ]
     },
     "execution_count": 12,
     "metadata": {},
     "output_type": "execute_result"
    }
   ],
   "source": [
    "#mostra as 10 primeiras linhas\n",
    "arquivo.head()"
   ]
  },
  {
   "cell_type": "code",
   "execution_count": 13,
   "metadata": {},
   "outputs": [
    {
     "data": {
      "text/plain": [
       "array([1, 0])"
      ]
     },
     "execution_count": 13,
     "metadata": {},
     "output_type": "execute_result"
    }
   ],
   "source": [
    "#verifica conteúdo da variável alvo\n",
    "arquivo[9].unique()"
   ]
  },
  {
   "cell_type": "code",
   "execution_count": 14,
   "metadata": {},
   "outputs": [],
   "source": [
    "#Divisão de colunas X e variável alvo. A direita da virgula, é o range das linhas\n",
    "# os valores a esquerda são as colunas. Então X são todas as variáveis de 0 a 8 e a variável Y é a 9.\n",
    "X = arquivo.iloc[:, 0:9].values\n",
    "y = arquivo.iloc[:, 9].values"
   ]
  },
  {
   "cell_type": "code",
   "execution_count": 15,
   "metadata": {},
   "outputs": [],
   "source": [
    "#dropar uma variável pontual\n",
    "#X = base.drop('-0.33', axis = 1)"
   ]
  },
  {
   "cell_type": "code",
   "execution_count": 16,
   "metadata": {},
   "outputs": [
    {
     "data": {
      "text/plain": [
       "array([[-0.33,  0.69,  0.  ,  1.  ,  1.  ,  0.  ,  0.8 ,  0.  ,  0.88],\n",
       "       [-0.33,  0.94,  1.  ,  0.  ,  1.  ,  0.  ,  0.8 ,  1.  ,  0.31],\n",
       "       [-0.33,  0.5 ,  1.  ,  0.  ,  0.  ,  0.  ,  1.  , -1.  ,  0.5 ],\n",
       "       [-0.33,  0.75,  0.  ,  1.  ,  1.  ,  0.  ,  1.  , -1.  ,  0.38],\n",
       "       [-0.33,  0.67,  1.  ,  1.  ,  0.  ,  0.  ,  0.8 , -1.  ,  0.5 ],\n",
       "       [-0.33,  0.67,  1.  ,  0.  ,  1.  ,  0.  ,  0.8 ,  0.  ,  0.5 ],\n",
       "       [-0.33,  0.67,  0.  ,  0.  ,  0.  , -1.  ,  0.8 , -1.  ,  0.44],\n",
       "       [-0.33,  1.  ,  1.  ,  1.  ,  1.  ,  0.  ,  0.6 , -1.  ,  0.38],\n",
       "       [ 1.  ,  0.64,  0.  ,  0.  ,  1.  ,  0.  ,  0.8 , -1.  ,  0.25],\n",
       "       [ 1.  ,  0.61,  1.  ,  0.  ,  0.  ,  0.  ,  1.  , -1.  ,  0.25],\n",
       "       [ 1.  ,  0.67,  1.  ,  1.  ,  0.  , -1.  ,  0.8 ,  0.  ,  0.31],\n",
       "       [ 1.  ,  0.78,  1.  ,  1.  ,  1.  ,  0.  ,  0.6 ,  0.  ,  0.13],\n",
       "       [ 1.  ,  0.75,  1.  ,  1.  ,  1.  ,  0.  ,  0.8 ,  1.  ,  0.25],\n",
       "       [ 1.  ,  0.81,  1.  ,  0.  ,  0.  ,  0.  ,  1.  , -1.  ,  0.38],\n",
       "       [ 1.  ,  0.94,  1.  ,  1.  ,  1.  ,  0.  ,  0.2 , -1.  ,  0.25],\n",
       "       [ 1.  ,  0.81,  1.  ,  1.  ,  0.  ,  0.  ,  1.  ,  1.  ,  0.5 ],\n",
       "       [ 1.  ,  0.64,  1.  ,  0.  ,  1.  ,  0.  ,  1.  , -1.  ,  0.38],\n",
       "       [ 1.  ,  0.69,  1.  ,  0.  ,  1.  ,  0.  ,  0.8 , -1.  ,  0.25],\n",
       "       [ 1.  ,  0.75,  1.  ,  1.  ,  1.  ,  0.  ,  1.  ,  1.  ,  0.25],\n",
       "       [ 1.  ,  0.67,  1.  ,  0.  ,  0.  ,  0.  ,  0.8 ,  1.  ,  0.38],\n",
       "       [ 1.  ,  0.67,  0.  ,  0.  ,  1.  ,  0.  ,  0.8 , -1.  ,  0.25],\n",
       "       [ 1.  ,  0.75,  1.  ,  0.  ,  0.  ,  0.  ,  0.6 ,  0.  ,  0.25],\n",
       "       [ 1.  ,  0.67,  1.  ,  1.  ,  0.  ,  0.  ,  0.8 , -1.  ,  0.25],\n",
       "       [ 1.  ,  0.69,  1.  ,  0.  ,  1.  , -1.  ,  1.  , -1.  ,  0.44],\n",
       "       [ 1.  ,  0.56,  1.  ,  0.  ,  1.  ,  0.  ,  1.  , -1.  ,  0.63],\n",
       "       [ 1.  ,  0.67,  1.  ,  0.  ,  0.  ,  0.  ,  1.  , -1.  ,  0.25],\n",
       "       [ 1.  ,  0.67,  1.  ,  0.  ,  1.  ,  0.  ,  0.6 , -1.  ,  0.38],\n",
       "       [ 1.  ,  0.78,  1.  ,  1.  ,  0.  ,  1.  ,  0.6 , -1.  ,  0.38],\n",
       "       [ 1.  ,  0.58,  0.  ,  0.  ,  1.  ,  0.  ,  1.  , -1.  ,  0.19],\n",
       "       [ 1.  ,  0.67,  0.  ,  0.  ,  1.  ,  0.  ,  0.6 ,  0.  ,  0.5 ],\n",
       "       [ 1.  ,  0.61,  1.  ,  0.  ,  1.  ,  0.  ,  1.  , -1.  ,  0.63],\n",
       "       [ 1.  ,  0.56,  1.  ,  0.  ,  0.  ,  0.  ,  1.  , -1.  ,  0.44],\n",
       "       [ 1.  ,  0.64,  0.  ,  0.  ,  0.  ,  0.  ,  1.  , -1.  ,  0.63],\n",
       "       [ 1.  ,  0.58,  1.  ,  1.  ,  1.  ,  0.  ,  0.8 ,  0.  ,  0.44],\n",
       "       [ 1.  ,  0.56,  1.  ,  1.  ,  1.  ,  0.  ,  1.  , -1.  ,  0.63],\n",
       "       [-1.  ,  0.78,  1.  ,  1.  ,  0.  ,  1.  ,  0.6 , -1.  ,  0.38],\n",
       "       [-1.  ,  0.78,  1.  ,  0.  ,  1.  ,  0.  ,  1.  , -1.  ,  0.25],\n",
       "       [-1.  ,  0.56,  1.  ,  0.  ,  1.  ,  0.  ,  1.  , -1.  ,  0.63],\n",
       "       [-1.  ,  0.67,  0.  ,  0.  ,  1.  ,  0.  ,  0.6 ,  0.  ,  0.5 ],\n",
       "       [-1.  ,  0.69,  1.  ,  0.  ,  0.  ,  0.  ,  1.  , -1.  ,  0.31],\n",
       "       [-1.  ,  0.53,  1.  ,  1.  ,  1.  ,  0.  ,  0.8 ,  1.  ,  0.5 ],\n",
       "       [-1.  ,  0.56,  1.  ,  1.  ,  0.  ,  0.  ,  0.8 ,  1.  ,  0.5 ],\n",
       "       [-1.  ,  0.58,  1.  ,  0.  ,  1.  , -1.  ,  0.8 ,  1.  ,  0.5 ],\n",
       "       [-1.  ,  0.56,  1.  ,  0.  ,  0.  ,  0.  ,  1.  , -1.  ,  0.44],\n",
       "       [-1.  ,  0.53,  1.  ,  1.  ,  0.  ,  1.  ,  1.  ,  0.  ,  0.31],\n",
       "       [-1.  ,  0.53,  1.  ,  0.  ,  0.  ,  1.  ,  1.  ,  0.  ,  0.44],\n",
       "       [-0.33,  0.56,  1.  ,  0.  ,  0.  ,  0.  ,  1.  , -1.  ,  0.63],\n",
       "       [-0.33,  0.72,  1.  ,  1.  ,  0.  ,  0.  ,  0.6 ,  1.  ,  0.19],\n",
       "       [-0.33,  0.64,  1.  ,  1.  ,  1.  ,  0.  ,  0.8 , -1.  ,  0.31],\n",
       "       [-0.33,  0.75,  1.  ,  1.  ,  1.  ,  0.  ,  0.6 , -1.  ,  0.19],\n",
       "       [-0.33,  0.67,  1.  ,  0.  ,  1.  ,  0.  ,  0.8 , -1.  ,  0.19],\n",
       "       [-0.33,  0.53,  1.  ,  1.  ,  0.  ,  1.  ,  1.  , -1.  ,  0.75],\n",
       "       [-0.33,  0.53,  1.  ,  1.  ,  0.  ,  0.  ,  0.8 ,  0.  ,  0.5 ],\n",
       "       [-0.33,  0.58,  1.  ,  1.  ,  1.  , -1.  ,  0.8 ,  0.  ,  0.19],\n",
       "       [-0.33,  0.61,  1.  ,  0.  ,  1.  ,  0.  ,  1.  , -1.  ,  0.63],\n",
       "       [-0.33,  0.58,  1.  ,  0.  ,  1.  ,  0.  ,  0.8 ,  1.  ,  0.19],\n",
       "       [-0.33,  0.53,  1.  ,  1.  ,  0.  ,  0.  ,  0.8 ,  0.  ,  0.75],\n",
       "       [-0.33,  0.69,  1.  ,  1.  ,  1.  , -1.  ,  1.  , -1.  ,  0.75],\n",
       "       [-0.33,  0.56,  1.  ,  1.  ,  0.  ,  0.  ,  0.4 ,  1.  ,  0.63],\n",
       "       [ 1.  ,  0.58,  0.  ,  0.  ,  0.  ,  1.  ,  0.8 ,  1.  ,  0.44],\n",
       "       [ 1.  ,  0.56,  0.  ,  0.  ,  0.  ,  1.  ,  0.8 ,  0.  ,  1.  ],\n",
       "       [-1.  ,  0.64,  1.  ,  0.  ,  0.  ,  1.  ,  1.  ,  1.  ,  0.25],\n",
       "       [-1.  ,  0.61,  1.  ,  1.  ,  1.  ,  0.  ,  0.6 , -1.  ,  0.38],\n",
       "       [-1.  ,  0.56,  1.  ,  0.  ,  0.  ,  1.  ,  1.  , -1.  ,  0.5 ],\n",
       "       [-1.  ,  0.53,  1.  ,  0.  ,  0.  ,  1.  ,  0.8 , -1.  ,  0.31],\n",
       "       [-0.33,  0.56,  0.  ,  0.  ,  1.  ,  0.  ,  1.  , -1.  ,  0.56],\n",
       "       [-0.33,  0.5 ,  1.  ,  1.  ,  0.  , -1.  ,  0.8 ,  0.  ,  0.88],\n",
       "       [-0.33,  0.5 ,  1.  ,  0.  ,  0.  ,  1.  ,  1.  , -1.  ,  0.47],\n",
       "       [-0.33,  0.5 ,  1.  ,  0.  ,  0.  ,  1.  ,  0.8 ,  0.  ,  0.31],\n",
       "       [-0.33,  0.5 ,  1.  ,  0.  ,  1.  , -1.  ,  0.8 , -1.  ,  0.5 ],\n",
       "       [-0.33,  0.5 ,  1.  ,  1.  ,  0.  , -1.  ,  0.8 ,  0.  ,  0.88],\n",
       "       [ 0.33,  0.69,  1.  ,  0.  ,  0.  ,  1.  ,  1.  , -1.  ,  0.31],\n",
       "       [ 1.  ,  0.56,  1.  ,  0.  ,  0.  ,  1.  ,  0.6 ,  0.  ,  0.5 ],\n",
       "       [-1.  ,  0.5 ,  1.  ,  0.  ,  0.  ,  1.  ,  0.8 , -1.  ,  0.44],\n",
       "       [-1.  ,  0.53,  1.  ,  0.  ,  0.  ,  1.  ,  0.8 , -1.  ,  0.63],\n",
       "       [-1.  ,  0.78,  1.  ,  0.  ,  1.  ,  1.  ,  1.  ,  1.  ,  0.25],\n",
       "       [-1.  ,  0.75,  1.  ,  0.  ,  1.  ,  1.  ,  0.6 ,  0.  ,  0.56],\n",
       "       [-1.  ,  0.72,  1.  ,  1.  ,  1.  ,  1.  ,  0.8 , -1.  ,  0.19],\n",
       "       [-1.  ,  0.53,  1.  ,  1.  ,  0.  ,  1.  ,  0.8 , -1.  ,  0.38],\n",
       "       [-1.  ,  1.  ,  1.  ,  0.  ,  1.  ,  1.  ,  0.6 ,  0.  ,  0.25],\n",
       "       [-0.33,  0.92,  1.  ,  1.  ,  0.  ,  1.  ,  1.  , -1.  ,  0.63],\n",
       "       [-1.  ,  0.81,  1.  ,  1.  ,  1.  ,  1.  ,  0.8 ,  0.  ,  0.19],\n",
       "       [-0.33,  0.92,  1.  ,  0.  ,  0.  ,  1.  ,  0.6 , -1.  ,  0.19],\n",
       "       [-0.33,  0.86,  1.  ,  1.  ,  1.  ,  1.  ,  1.  , -1.  ,  0.25],\n",
       "       [-0.33,  0.78,  1.  ,  0.  ,  0.  ,  1.  ,  1.  ,  1.  ,  0.06],\n",
       "       [-0.33,  0.89,  1.  ,  1.  ,  0.  ,  0.  ,  0.6 ,  1.  ,  0.31],\n",
       "       [-0.33,  0.75,  1.  ,  1.  ,  1.  ,  0.  ,  0.6 ,  1.  ,  0.25],\n",
       "       [-0.33,  0.75,  1.  ,  1.  ,  1.  ,  1.  ,  0.8 ,  1.  ,  0.25],\n",
       "       [-0.33,  0.83,  1.  ,  1.  ,  1.  ,  0.  ,  1.  , -1.  ,  0.31],\n",
       "       [-0.33,  0.81,  1.  ,  1.  ,  1.  ,  0.  ,  1.  ,  1.  ,  0.38],\n",
       "       [-0.33,  0.81,  1.  ,  1.  ,  1.  ,  1.  ,  0.8 , -1.  ,  0.38],\n",
       "       [ 0.33,  0.78,  1.  ,  0.  ,  0.  ,  0.  ,  1.  ,  1.  ,  0.06],\n",
       "       [ 0.33,  0.75,  1.  ,  1.  ,  0.  ,  0.  ,  0.8 , -1.  ,  0.38],\n",
       "       [ 0.33,  0.75,  1.  ,  0.  ,  1.  ,  0.  ,  0.8 , -1.  ,  0.44],\n",
       "       [ 1.  ,  0.58,  1.  ,  0.  ,  0.  ,  0.  ,  0.6 ,  1.  ,  0.5 ],\n",
       "       [-1.  ,  0.67,  1.  ,  0.  ,  0.  ,  0.  ,  1.  , -1.  ,  0.5 ],\n",
       "       [-1.  ,  0.61,  1.  ,  0.  ,  0.  ,  0.  ,  0.8 ,  0.  ,  0.5 ],\n",
       "       [-1.  ,  0.67,  1.  ,  1.  ,  1.  ,  0.  ,  1.  , -1.  ,  0.31],\n",
       "       [-1.  ,  0.64,  1.  ,  0.  ,  1.  ,  0.  ,  1.  ,  0.  ,  0.19],\n",
       "       [-1.  ,  0.69,  0.  ,  1.  ,  1.  ,  0.  ,  0.6 , -1.  ,  0.19]])"
      ]
     },
     "execution_count": 16,
     "metadata": {},
     "output_type": "execute_result"
    }
   ],
   "source": [
    "#Mostra conteúdo da variável X\n",
    "X"
   ]
  },
  {
   "cell_type": "code",
   "execution_count": 17,
   "metadata": {},
   "outputs": [
    {
     "data": {
      "text/plain": [
       "array([1, 0, 1, 1, 0, 1, 1, 1, 1, 1, 1, 1, 1, 1, 1, 1, 1, 0, 1, 0, 1, 1,\n",
       "       1, 0, 1, 1, 0, 0, 1, 0, 1, 1, 1, 1, 1, 1, 1, 1, 0, 1, 1, 1, 1, 1,\n",
       "       1, 1, 1, 1, 1, 1, 1, 1, 1, 1, 1, 1, 1, 1, 1, 1, 1, 1, 1, 1, 1, 1,\n",
       "       1, 1, 1, 1, 0, 1, 1, 1, 1, 1, 1, 1, 1, 1, 1, 1, 1, 1, 0, 1, 1, 1,\n",
       "       1, 1, 1, 1, 1, 0, 1, 1, 1, 1, 1, 1])"
      ]
     },
     "execution_count": 17,
     "metadata": {},
     "output_type": "execute_result"
    }
   ],
   "source": [
    "#Mostra conteúdo variável alvo\n",
    "y"
   ]
  },
  {
   "cell_type": "code",
   "execution_count": 18,
   "metadata": {},
   "outputs": [],
   "source": [
    "# importar a função label_encoder do sklearn, transformar categórica em numérica (0,1)\n",
    "#from sklearn.preprocessing import LabelEncoder\n",
    "#label_encoder = LabelEncoder()\n",
    "\n",
    "#X[:,1] = label_encoder.fit_transform(X[:,1])\n",
    "#X[:,3] = label_encoder.fit_transform(X[:,3])\n"
   ]
  },
  {
   "cell_type": "code",
   "execution_count": 19,
   "metadata": {},
   "outputs": [],
   "source": [
    "from sklearn.preprocessing import StandardScaler\n",
    "scaler_x = StandardScaler()\n",
    "X = scaler_x.fit_transform(X)"
   ]
  },
  {
   "cell_type": "code",
   "execution_count": 20,
   "metadata": {},
   "outputs": [],
   "source": [
    "#split das bases = 70/30\n",
    "from sklearn.model_selection import train_test_split\n",
    "X_treinamento, X_teste, y_treinamento, y_teste = train_test_split(X, y, test_size = 0.3,random_state=50)"
   ]
  },
  {
   "cell_type": "code",
   "execution_count": 21,
   "metadata": {},
   "outputs": [
    {
     "data": {
      "text/plain": [
       "array([1, 1, 1, 1, 1, 1, 1, 0, 1, 1, 1, 1, 1, 1, 1, 1, 0, 1, 1, 1, 1, 1,\n",
       "       1, 1, 1, 1, 1, 1, 1, 1])"
      ]
     },
     "execution_count": 21,
     "metadata": {},
     "output_type": "execute_result"
    }
   ],
   "source": [
    "#Tamanhos das bases\n",
    "#printprint((X_treinamentoX_treinam .shape) #tamanho da base de treinamento\n",
    "#X_teste.shape       #tamanho da base de validação\n",
    "#y_treinamento.shape #tamanho da base de treinamento\n",
    "y_teste       #tamanho da base de validação"
   ]
  },
  {
   "cell_type": "code",
   "execution_count": 22,
   "metadata": {},
   "outputs": [
    {
     "data": {
      "text/plain": [
       "LogisticRegression(C=1.0, class_weight=None, dual=False, fit_intercept=True,\n",
       "          intercept_scaling=1.0, max_iter=10000, multi_class='multinomial',\n",
       "          n_jobs=2, penalty='l2', random_state=None, solver='lbfgs',\n",
       "          tol=0.0001, verbose=0, warm_start=False)"
      ]
     },
     "execution_count": 22,
     "metadata": {},
     "output_type": "execute_result"
    }
   ],
   "source": [
    "from sklearn.linear_model import LogisticRegression\n",
    "classificador=LogisticRegression(max_iter=10000, solver='lbfgs', fit_intercept=True, dual=False,\n",
    "                                tol=0.0001,class_weight=None, n_jobs=2,intercept_scaling=1.0,\n",
    "                                multi_class='multinomial', random_state=None)\n",
    "classificador.fit(X_treinamento, y_treinamento)\n"
   ]
  },
  {
   "cell_type": "code",
   "execution_count": 23,
   "metadata": {},
   "outputs": [
    {
     "data": {
      "text/plain": [
       "array([1, 1, 1, 1, 1, 1, 1, 1, 1, 1, 1, 1, 1, 1, 1, 1, 1, 1, 1, 1, 1, 1,\n",
       "       1, 1, 1, 0, 0, 1, 1, 1])"
      ]
     },
     "execution_count": 23,
     "metadata": {},
     "output_type": "execute_result"
    }
   ],
   "source": [
    "previsoes = classificador.predict(X_teste)\n",
    "previsoes"
   ]
  },
  {
   "cell_type": "code",
   "execution_count": 24,
   "metadata": {},
   "outputs": [
    {
     "data": {
      "text/plain": [
       "array([1, 1, 1, 1, 1, 1, 1, 0, 1, 1, 1, 1, 1, 1, 1, 1, 0, 1, 1, 1, 1, 1,\n",
       "       1, 1, 1, 1, 1, 1, 1, 1])"
      ]
     },
     "execution_count": 24,
     "metadata": {},
     "output_type": "execute_result"
    }
   ],
   "source": [
    "y_teste"
   ]
  },
  {
   "cell_type": "code",
   "execution_count": 25,
   "metadata": {},
   "outputs": [
    {
     "data": {
      "text/plain": [
       "0.8666666666666667"
      ]
     },
     "execution_count": 25,
     "metadata": {},
     "output_type": "execute_result"
    }
   ],
   "source": [
    "#Calculo da métrica de acurácia\n",
    "from sklearn.metrics import accuracy_score\n",
    "taxa_acerto = accuracy_score(y_teste, previsoes)\n",
    "taxa_acerto"
   ]
  },
  {
   "cell_type": "code",
   "execution_count": 26,
   "metadata": {},
   "outputs": [],
   "source": [
    "#Conclusões:\n",
    "#1- Quando eu drop a variável (X = base.drop('0.69', axis = 1)) dar overfitting\n",
    "#2- Quando eu drop a variável (X = base.drop('0.88', axis = 1)) dar overfitting\n",
    "#3- Quando eu deixo de usar a função drop e passo a fazer o filtro pelo numero de colunas, para de dar overfitting\n",
    "#4 - Retirada a coluna XX com o codigo X = base.iloc[:, 0:8].values, no passo 11. A acurácia variou de 0.93,0.833,  \n",
    "#5- Retirada as duas ultimas variáveis a acurácia variou de 0.76, 0.93, 0.9 e 0.83"
   ]
  }
 ],
 "metadata": {
  "kernelspec": {
   "display_name": "Python 2",
   "language": "python",
   "name": "python2"
  },
  "language_info": {
   "codemirror_mode": {
    "name": "ipython",
    "version": 2
   },
   "file_extension": ".py",
   "mimetype": "text/x-python",
   "name": "python",
   "nbconvert_exporter": "python",
   "pygments_lexer": "ipython2",
   "version": "2.7.15"
  }
 },
 "nbformat": 4,
 "nbformat_minor": 2
}
